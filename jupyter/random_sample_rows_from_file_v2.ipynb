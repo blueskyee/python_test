{
 "cells": [
  {
   "cell_type": "code",
   "execution_count": 27,
   "metadata": {
    "collapsed": true
   },
   "outputs": [],
   "source": [
    "from os import listdir\n",
    "from os.path import isfile, join\n",
    "import re\n",
    "import random"
   ]
  },
  {
   "cell_type": "code",
   "execution_count": 7,
   "metadata": {
    "collapsed": true
   },
   "outputs": [],
   "source": [
    "seg_folder_path='/spark-tmp0/segment_vpon_history/hc/'"
   ]
  },
  {
   "cell_type": "code",
   "execution_count": 3,
   "metadata": {
    "collapsed": true
   },
   "outputs": [],
   "source": [
    "seg_files = [f for f in listdir(seg_folder_path) if isfile(join(seg_folder_path, f))]"
   ]
  },
  {
   "cell_type": "code",
   "execution_count": 4,
   "metadata": {
    "collapsed": false
   },
   "outputs": [
    {
     "name": "stdout",
     "output_type": "stream",
     "text": [
      "unitedarabemirates.csv\n"
     ]
    }
   ],
   "source": [
    "print seg_files[0]"
   ]
  },
  {
   "cell_type": "code",
   "execution_count": 5,
   "metadata": {
    "collapsed": true
   },
   "outputs": [],
   "source": [
    "# include EU\n",
    "country_list=[\"china\",\n",
    "                \"japan\",\n",
    "                \"republicofkorea\",\n",
    "                \"taiwan\",\n",
    "                \"singapore\",\n",
    "                \"hongkong\",\n",
    "                \"malaysia\",\n",
    "                \"unitedstates\",\n",
    "                \"spain\",\n",
    "                \"vietnam\",\n",
    "                \"russia\",\n",
    "                \"macao\",\n",
    "                \"india\",\n",
    "                \"italy\",\n",
    "                \"canada\",\n",
    "                \"australia\",\n",
    "                \"indonesia\",\n",
    "                \"turkey\",\n",
    "                \"philippines\",\n",
    "                \"saudiarabia\",\n",
    "                \"brazil\",\n",
    "                \"thailand\",\n",
    "                \"unitedkingdom\",\n",
    "                \"myanmar\",\n",
    "                \"france\",\n",
    "                \"germany\",\n",
    "                \"cambodia\",\n",
    "                \"newzealand\",\n",
    "                \"argentina\",\n",
    "                \"unitedarabemirates\",\n",
    "                \"portugal\",\n",
    "                \"southafrica\"]"
   ]
  },
  {
   "cell_type": "code",
   "execution_count": 10,
   "metadata": {
    "collapsed": true
   },
   "outputs": [],
   "source": [
    "def file_len(fname):\n",
    "    with open(fname) as f:\n",
    "        for i, l in enumerate(f):\n",
    "            pass\n",
    "    return i + 1"
   ]
  },
  {
   "cell_type": "code",
   "execution_count": 21,
   "metadata": {
    "collapsed": false
   },
   "outputs": [],
   "source": [
    "def random_sampler(filename, k):\n",
    "\tsample = []\n",
    "\twith open(filename, 'rb') as f:\n",
    "\t\tf.seek(0, 2)\n",
    "\t\tfilesize = f.tell()\n",
    "\n",
    "\t\trandom_set = sorted(random.sample(xrange(filesize), k))\n",
    "\n",
    "\t\tfor i in xrange(k):\n",
    "\t\t\tf.seek(random_set[i])\n",
    "\t\t\t# Skip current line (because we might be in the middle of a line) \n",
    "\t\t\tf.readline()\n",
    "\t\t\t# Append the next line to the sample set \n",
    "\t\t\tsample.append(f.readline().rstrip())\n",
    "\n",
    "\treturn sample"
   ]
  },
  {
   "cell_type": "code",
   "execution_count": 38,
   "metadata": {
    "collapsed": true
   },
   "outputs": [],
   "source": [
    "def random_range_percentage(percentage, ran):\n",
    "    # percentage: 7; ran: 5 \n",
    "    return float(random.randrange(percentage*100 - percentage*ran, percentage*100 + percentage*ran))/100"
   ]
  },
  {
   "cell_type": "code",
   "execution_count": 39,
   "metadata": {
    "collapsed": false
   },
   "outputs": [
    {
     "name": "stdout",
     "output_type": "stream",
     "text": [
      "7.22\n"
     ]
    }
   ],
   "source": [
    "print random_range_percentage(7, 5)"
   ]
  },
  {
   "cell_type": "code",
   "execution_count": 45,
   "metadata": {
    "collapsed": false
   },
   "outputs": [
    {
     "name": "stdout",
     "output_type": "stream",
     "text": [
      "/spark-tmp0/segment_vpon_history/hc/china.csv, file size: 22214127, sample size: 1512782\n",
      "/spark-tmp0/segment_vpon_history/hc/japan.csv, file size: 4752891, sample size: 330801\n",
      "/spark-tmp0/segment_vpon_history/hc/republicofkorea.csv, file size: 3998045, sample size: 276264\n",
      "/spark-tmp0/segment_vpon_history/hc/taiwan.csv, file size: 5312701, sample size: 364982\n",
      "/spark-tmp0/segment_vpon_history/hc/singapore.csv, file size: 1973244, sample size: 140100\n",
      "/spark-tmp0/segment_vpon_history/hc/hongkong.csv, file size: 3313844, sample size: 238265\n",
      "/spark-tmp0/segment_vpon_history/hc/malaysia.csv, file size: 12105, sample size: 824\n",
      "/spark-tmp0/segment_vpon_history/hc/unitedstates.csv, file size: 36046, sample size: 2588\n",
      "/spark-tmp0/segment_vpon_history/hc/spain.csv, file size: 3655, sample size: 246\n",
      "/spark-tmp0/segment_vpon_history/hc/vietnam.csv, file size: 4780, sample size: 338\n",
      "/spark-tmp0/segment_vpon_history/hc/russia.csv, file size: 1699, sample size: 116\n",
      "/spark-tmp0/segment_vpon_history/hc/macao.csv, file size: 139771, sample size: 9937\n",
      "/spark-tmp0/segment_vpon_history/hc/india.csv, file size: 4130, sample size: 294\n",
      "/spark-tmp0/segment_vpon_history/hc/italy.csv, file size: 7020, sample size: 482\n",
      "/spark-tmp0/segment_vpon_history/hc/canada.csv, file size: 10445, sample size: 753\n",
      "/spark-tmp0/segment_vpon_history/hc/australia.csv, file size: 15127, sample size: 1025\n",
      "/spark-tmp0/segment_vpon_history/hc/indonesia.csv, file size: 1086, sample size: 76\n",
      "/spark-tmp0/segment_vpon_history/hc/turkey.csv, file size: 343, sample size: 24\n",
      "/spark-tmp0/segment_vpon_history/hc/philippines.csv, file size: 3041, sample size: 220\n",
      "/spark-tmp0/segment_vpon_history/hc/saudiarabia.csv, file size: 865, sample size: 59\n",
      "/spark-tmp0/segment_vpon_history/hc/brazil.csv, file size: 1073, sample size: 78\n",
      "/spark-tmp0/segment_vpon_history/hc/thailand.csv, file size: 7154, sample size: 523\n",
      "/spark-tmp0/segment_vpon_history/hc/unitedkingdom.csv, file size: 4337, sample size: 289\n",
      "/spark-tmp0/segment_vpon_history/hc/france.csv, file size: 2144, sample size: 154\n",
      "/spark-tmp0/segment_vpon_history/hc/germany.csv, file size: 1911, sample size: 135\n",
      "/spark-tmp0/segment_vpon_history/hc/cambodia.csv, file size: 1505, sample size: 107\n",
      "/spark-tmp0/segment_vpon_history/hc/newzealand.csv, file size: 2154, sample size: 155\n",
      "/spark-tmp0/segment_vpon_history/hc/argentina.csv, file size: 907, sample size: 64\n",
      "/spark-tmp0/segment_vpon_history/hc/unitedarabemirates.csv, file size: 944, sample size: 64\n",
      "/spark-tmp0/segment_vpon_history/hc/portugal.csv, file size: 398, sample size: 26\n",
      "/spark-tmp0/segment_vpon_history/hc/southafrica.csv, file size: 618, sample size: 44\n"
     ]
    }
   ],
   "source": [
    "import os\n",
    "for country in country_list:\n",
    "    full_seg_file_name = seg_folder_path + country + '.csv'\n",
    "    if os.stat(full_seg_file_name).st_size > 0:\n",
    "        print '{}, file size: {}, sample size: {}'.format(full_seg_file_name, \n",
    "                                                          file_len(full_seg_file_name), \n",
    "                                                          int(file_len(full_seg_file_name)*random_range_percentage(7, 5)/100))"
   ]
  },
  {
   "cell_type": "code",
   "execution_count": null,
   "metadata": {
    "collapsed": true
   },
   "outputs": [],
   "source": []
  }
 ],
 "metadata": {
  "kernelspec": {
   "display_name": "Python 2",
   "language": "python",
   "name": "python2"
  },
  "language_info": {
   "codemirror_mode": {
    "name": "ipython",
    "version": 2
   },
   "file_extension": ".py",
   "mimetype": "text/x-python",
   "name": "python",
   "nbconvert_exporter": "python",
   "pygments_lexer": "ipython2",
   "version": "2.7.10"
  }
 },
 "nbformat": 4,
 "nbformat_minor": 0
}
