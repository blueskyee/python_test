{
 "cells": [
  {
   "cell_type": "code",
   "execution_count": 1,
   "metadata": {
    "collapsed": true
   },
   "outputs": [],
   "source": [
    "from os import listdir\n",
    "import re\n",
    "import random"
   ]
  },
  {
   "cell_type": "code",
   "execution_count": 19,
   "metadata": {
    "collapsed": true
   },
   "outputs": [],
   "source": [
    "seg_folder_path='/spark-tmp0/201807.history/traveler.to.japan/'"
   ]
  },
  {
   "cell_type": "code",
   "execution_count": 20,
   "metadata": {
    "collapsed": false
   },
   "outputs": [],
   "source": [
    "import os\n",
    "from glob import glob\n",
    "seg_files = [y for x in os.walk(seg_folder_path) for y in glob(os.path.join(x[0], '*.csv'))]"
   ]
  },
  {
   "cell_type": "code",
   "execution_count": 21,
   "metadata": {
    "collapsed": false
   },
   "outputs": [
    {
     "name": "stdout",
     "output_type": "stream",
     "text": [
      "['/spark-tmp0/201807.history/traveler.to.japan/france/france.csv', '/spark-tmp0/201807.history/traveler.to.japan/singapore/singapore.csv', '/spark-tmp0/201807.history/traveler.to.japan/china/china.csv', '/spark-tmp0/201807.history/traveler.to.japan/vietnam/vietnam.csv', '/spark-tmp0/201807.history/traveler.to.japan/macao/macao.csv', '/spark-tmp0/201807.history/traveler.to.japan/portugal/portugal.csv', '/spark-tmp0/201807.history/traveler.to.japan/taiwan/taiwan.csv', '/spark-tmp0/201807.history/traveler.to.japan/republic.of.korea/republicofkorea.csv', '/spark-tmp0/201807.history/traveler.to.japan/spain/spain.csv', '/spark-tmp0/201807.history/traveler.to.japan/thailand/thailand.csv', '/spark-tmp0/201807.history/traveler.to.japan/india/india.csv', '/spark-tmp0/201807.history/traveler.to.japan/indonesian/indonesian.csv', '/spark-tmp0/201807.history/traveler.to.japan/malaysia/malaysia.csv', '/spark-tmp0/201807.history/traveler.to.japan/myanmar.burma/myanmarburma.csv', '/spark-tmp0/201807.history/traveler.to.japan/hong.kong/hongkong.csv', '/spark-tmp0/201807.history/traveler.to.japan/russia/russia.csv', '/spark-tmp0/201807.history/traveler.to.japan/germany/germany.csv', '/spark-tmp0/201807.history/traveler.to.japan/turkey/turkey.csv', '/spark-tmp0/201807.history/traveler.to.japan/united.arab.emirates/unitedarabemirates.csv']\n"
     ]
    }
   ],
   "source": [
    "print seg_files"
   ]
  },
  {
   "cell_type": "code",
   "execution_count": 5,
   "metadata": {
    "collapsed": true
   },
   "outputs": [],
   "source": [
    "def file_len(fname):\n",
    "    with open(fname) as f:\n",
    "        for i, l in enumerate(f):\n",
    "            pass\n",
    "    return i + 1"
   ]
  },
  {
   "cell_type": "code",
   "execution_count": 6,
   "metadata": {
    "collapsed": true
   },
   "outputs": [],
   "source": [
    "def random_sampler(filename, k):\n",
    "\tsample = []\n",
    "\twith open(filename, 'rb') as f:\n",
    "\t\tf.seek(0, 2)\n",
    "\t\tfilesize = f.tell()\n",
    "\n",
    "\t\trandom_set = sorted(random.sample(xrange(filesize), k))\n",
    "\n",
    "\t\tfor i in xrange(k):\n",
    "\t\t\tf.seek(random_set[i])\n",
    "\t\t\t# Skip current line (because we might be in the middle of a line) \n",
    "\t\t\tf.readline()\n",
    "\t\t\t# Append the next line to the sample set \n",
    "\t\t\tsample.append(f.readline().rstrip())\n",
    "\n",
    "\treturn sample"
   ]
  },
  {
   "cell_type": "code",
   "execution_count": 7,
   "metadata": {
    "collapsed": true
   },
   "outputs": [],
   "source": [
    "def random_range_percentage(percentage, ran):\n",
    "    # percentage: 7; ran: 5 \n",
    "    return float(random.randrange(percentage*100 - percentage*ran, percentage*100 + percentage*ran))/100"
   ]
  },
  {
   "cell_type": "code",
   "execution_count": 8,
   "metadata": {
    "collapsed": false
   },
   "outputs": [
    {
     "name": "stdout",
     "output_type": "stream",
     "text": [
      "7.12\n"
     ]
    }
   ],
   "source": [
    "print random_range_percentage(7, 3)"
   ]
  },
  {
   "cell_type": "code",
   "execution_count": 9,
   "metadata": {
    "collapsed": true
   },
   "outputs": [],
   "source": [
    "def write_file_to_local(filename, data):\n",
    "    basedir = os.path.dirname(filename)\n",
    "    if not os.path.exists(basedir):\n",
    "        os.makedirs(basedir)\n",
    "\n",
    "    f = open(filename, \"w\")\n",
    "    for item in data:\n",
    "        f.write(\"%s\\n\" % item)\n",
    "    f.close()"
   ]
  },
  {
   "cell_type": "code",
   "execution_count": 25,
   "metadata": {
    "collapsed": false
   },
   "outputs": [
    {
     "name": "stdout",
     "output_type": "stream",
     "text": [
      "sample file: /spark-tmp0/201807.sample/201806/traveler.to.japan/france/france.csv\n",
      "row count:122986, sample count:25236\n",
      "sample file: /spark-tmp0/201807.sample/201806/traveler.to.japan/singapore/singapore.csv\n",
      "row count:123330, sample count:24444\n",
      "sample file: /spark-tmp0/201807.sample/201806/traveler.to.japan/china/china.csv\n",
      "row count:2141351, sample count:417349\n",
      "sample file: /spark-tmp0/201807.sample/201806/traveler.to.japan/vietnam/vietnam.csv\n",
      "row count:259446, sample count:53264\n",
      "sample file: /spark-tmp0/201807.sample/201806/traveler.to.japan/macao/macao.csv\n",
      "row count:14637, sample count:3040\n",
      "sample file: /spark-tmp0/201807.sample/201806/traveler.to.japan/portugal/portugal.csv\n",
      "row count:499680, sample count:102284\n",
      "sample file: /spark-tmp0/201807.sample/201806/traveler.to.japan/taiwan/taiwan.csv\n",
      "row count:897865, sample count:181997\n",
      "sample file: /spark-tmp0/201807.sample/201806/traveler.to.japan/republic.of.korea/republicofkorea.csv\n",
      "row count:484045, sample count:95114\n",
      "sample file: /spark-tmp0/201807.sample/201806/traveler.to.japan/spain/spain.csv\n",
      "row count:329297, sample count:63949\n",
      "sample file: /spark-tmp0/201807.sample/201806/traveler.to.japan/thailand/thailand.csv\n",
      "row count:130959, sample count:25052\n",
      "sample file: /spark-tmp0/201807.sample/201806/traveler.to.japan/india/india.csv\n",
      "row count:633773, sample count:123142\n",
      "sample file: /spark-tmp0/201807.sample/201806/traveler.to.japan/indonesian/indonesian.csv\n",
      "row count:78192, sample count:16060\n",
      "sample file: /spark-tmp0/201807.sample/201806/traveler.to.japan/malaysia/malaysia.csv\n",
      "row count:11691, sample count:2377\n",
      "sample file: /spark-tmp0/201807.sample/201806/traveler.to.japan/myanmar.burma/myanmarburma.csv\n",
      "row count:6484, sample count:1270\n",
      "sample file: /spark-tmp0/201807.sample/201806/traveler.to.japan/hong.kong/hongkong.csv\n",
      "row count:392512, sample count:79051\n",
      "sample file: /spark-tmp0/201807.sample/201806/traveler.to.japan/russia/russia.csv\n",
      "row count:67695, sample count:13383\n",
      "sample file: /spark-tmp0/201807.sample/201806/traveler.to.japan/germany/germany.csv\n",
      "row count:34792, sample count:6822\n",
      "sample file: /spark-tmp0/201807.sample/201806/traveler.to.japan/turkey/turkey.csv\n",
      "row count:32224, sample count:6667\n",
      "sample file: /spark-tmp0/201807.sample/201806/traveler.to.japan/united.arab.emirates/unitedarabemirates.csv\n",
      "row count:328331, sample count:68719\n"
     ]
    }
   ],
   "source": [
    "for seg_file in seg_files:\n",
    "    sample_file = seg_file.replace('201807.history', '201807.sample/201806')\n",
    "    print 'sample file: {}'.format(sample_file)\n",
    "    sample_count = int(file_len(seg_file)*random_range_percentage(20, 5)/100)\n",
    "    print 'row count:{}, sample count:{}'.format(file_len(seg_file), \n",
    "                                                 sample_count)\n",
    "    sample_seg = random_sampler(seg_file, sample_count)\n",
    "    write_file_to_local(sample_file, sample_seg)"
   ]
  },
  {
   "cell_type": "code",
   "execution_count": null,
   "metadata": {
    "collapsed": true
   },
   "outputs": [],
   "source": []
  }
 ],
 "metadata": {
  "kernelspec": {
   "display_name": "Python 2",
   "language": "python",
   "name": "python2"
  },
  "language_info": {
   "codemirror_mode": {
    "name": "ipython",
    "version": 2
   },
   "file_extension": ".py",
   "mimetype": "text/x-python",
   "name": "python",
   "nbconvert_exporter": "python",
   "pygments_lexer": "ipython2",
   "version": "2.7.10"
  }
 },
 "nbformat": 4,
 "nbformat_minor": 0
}
